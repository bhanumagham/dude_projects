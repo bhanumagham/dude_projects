{
 "cells": [
  {
   "cell_type": "code",
   "id": "initial_id",
   "metadata": {
    "collapsed": true,
    "ExecuteTime": {
     "end_time": "2025-06-11T06:32:36.431673Z",
     "start_time": "2025-06-11T06:32:36.412567Z"
    }
   },
   "source": "import os",
   "outputs": [],
   "execution_count": 1
  },
  {
   "metadata": {
    "ExecuteTime": {
     "end_time": "2025-06-11T06:33:08.351888Z",
     "start_time": "2025-06-11T06:33:08.339352Z"
    }
   },
   "cell_type": "code",
   "source": "os.getcwd()",
   "id": "6bf530aa8919ad7d",
   "outputs": [
    {
     "data": {
      "text/plain": [
       "'C:\\\\Users\\\\gowth\\\\PyCharmMiscProject'"
      ]
     },
     "execution_count": 2,
     "metadata": {},
     "output_type": "execute_result"
    }
   ],
   "execution_count": 2
  },
  {
   "metadata": {
    "ExecuteTime": {
     "end_time": "2025-06-11T07:36:17.910943Z",
     "start_time": "2025-06-11T07:36:17.231296Z"
    }
   },
   "cell_type": "code",
   "source": [
    "import google.auth\n",
    "from googleapiclient.discovery import build\n",
    "from googleapiclient.errors import HttpError\n",
    "from google.auth.transport.requests import Request\n",
    "from google.oauth2.credentials import Credentials\n",
    "from google_auth_oauthlib.flow import InstalledAppFlow\n",
    "from googleapiclient.discovery import build\n",
    "from googleapiclient.errors import HttpError\n",
    "\n",
    "\n"
   ],
   "id": "d6271e5561174ffd",
   "outputs": [],
   "execution_count": 1
  },
  {
   "metadata": {
    "ExecuteTime": {
     "end_time": "2025-06-11T07:36:20.470786Z",
     "start_time": "2025-06-11T07:36:20.464680Z"
    }
   },
   "cell_type": "code",
   "source": [
    "#define permission scopes\n",
    "SCOPES = [\n",
    "          'https://www.googleapis.com/auth/spreadsheets']"
   ],
   "id": "9352488846ca687f",
   "outputs": [],
   "execution_count": 2
  },
  {
   "metadata": {
    "ExecuteTime": {
     "end_time": "2025-06-11T07:36:21.882687Z",
     "start_time": "2025-06-11T07:36:21.873531Z"
    }
   },
   "cell_type": "code",
   "source": [
    "import os\n",
    "import google.auth\n",
    "from google.auth.transport.requests import Request\n",
    "from google_auth_oauthlib.flow import InstalledAppFlow\n",
    "from google.oauth2.credentials import Credentials\n",
    "\n",
    "# Define your SCOPES (example for Google Drive)\n",
    "SCOPES = [\n",
    "          'https://www.googleapis.com/auth/spreadsheets']\n",
    "\n",
    "def get_credentials():\n",
    "    creds = None\n",
    "    token_file = 'token.json'\n",
    "    client_secrets_file = 'client_secrets.json'\n",
    "\n",
    "    # Load credentials from the token file if it exists\n",
    "    if os.path.exists(token_file):\n",
    "        creds = Credentials.from_authorized_user_file(token_file, SCOPES)\n",
    "\n",
    "    # If there are no valid credentials, prompt login\n",
    "    if not creds or not creds.valid:\n",
    "        if creds and creds.expired and creds.refresh_token:\n",
    "            creds.refresh(Request())\n",
    "        else:\n",
    "            if not os.path.exists(client_secrets_file):\n",
    "                raise Exception(\"Missing client_secrets.json. Follow the quickstart guide to create one.\")\n",
    "            flow = InstalledAppFlow.from_client_secrets_file(client_secrets_file, SCOPES)\n",
    "            creds = flow.run_local_server(port=0)\n",
    "        # Save the credentials for next run\n",
    "        with open(token_file, 'w') as token:\n",
    "            token.write(creds.to_json())\n",
    "\n",
    "    return creds\n"
   ],
   "id": "e6046e5b7106ced",
   "outputs": [],
   "execution_count": 3
  },
  {
   "metadata": {},
   "cell_type": "code",
   "source": "get_credentials()",
   "id": "277f33d73c289cff",
   "outputs": [],
   "execution_count": null
  },
  {
   "metadata": {
    "ExecuteTime": {
     "end_time": "2025-06-11T07:37:37.193871Z",
     "start_time": "2025-06-11T07:37:37.184828Z"
    }
   },
   "cell_type": "code",
   "source": [
    "def get_values(spreadsheet_id, range_name):\n",
    "  \"\"\"\n",
    "  Creates the batch_update the user has access to.\n",
    "  Load pre-authorized user credentials from the environment.\n",
    "  TODO(developer) - See https://developers.google.com/identity\n",
    "  for guides on implementing OAuth2 for the application.\n",
    "  \"\"\"\n",
    "  creds = get_credentials()\n",
    "  # pylint: disable=maybe-no-member\n",
    "  try:\n",
    "    service = build(\"sheets\", \"v4\", credentials=creds)\n",
    "\n",
    "    result = (\n",
    "        service.spreadsheets()\n",
    "        .values()\n",
    "        .get(spreadsheetId=spreadsheet_id, range=range_name)\n",
    "        .execute()\n",
    "    )\n",
    "    rows = result.get(\"values\", [])\n",
    "    print(f\"{len(rows)} rows retrieved\")\n",
    "    return result\n",
    "  except HttpError as error:\n",
    "    print(f\"An error occurred: {error}\")\n",
    "    return error\n",
    "\n",
    "\n"
   ],
   "id": "2361a82ca4b8ebf1",
   "outputs": [],
   "execution_count": 8
  },
  {
   "metadata": {
    "ExecuteTime": {
     "end_time": "2025-06-11T07:37:38.307835Z",
     "start_time": "2025-06-11T07:37:38.300977Z"
    }
   },
   "cell_type": "code",
   "source": [
    "sheet_id = \"<sheet_id>\"\n",
    "range_name = \"Pandas!A2:D14\""
   ],
   "id": "6ffd4f944c999327",
   "outputs": [],
   "execution_count": 9
  },
  {
   "metadata": {
    "ExecuteTime": {
     "end_time": "2025-06-11T07:37:40.956189Z",
     "start_time": "2025-06-11T07:37:38.856746Z"
    }
   },
   "cell_type": "code",
   "source": "get_values(sheet_id, range_name)",
   "id": "6abf2017638f9976",
   "outputs": [
    {
     "name": "stdout",
     "output_type": "stream",
     "text": [
      "13 rows retrieved\n"
     ]
    },
    {
     "data": {
      "text/plain": [
       "{'range': 'Pandas!A2:D14',\n",
       " 'majorDimension': 'ROWS',\n",
       " 'values': [['S. No.', 'Topic', 'Sub Topic', 'Comments'],\n",
       "  ['1', 'Pandas', 'Dataframe basics, reading and writing'],\n",
       "  ['2', 'Pandas', 'Reshaping - Melt, Pivot'],\n",
       "  ['3', 'Pandas', 'Combining - Concat and Merge'],\n",
       "  ['4', 'Pandas', 'renaming columns'],\n",
       "  ['5', 'Pandas', 'Slicing, iterating using loc'],\n",
       "  ['6', 'Pandas', 'Filtering from Dataframe'],\n",
       "  ['7', 'Pandas', 'index and multi-index, reset_index'],\n",
       "  ['8', 'Pandas', 'Sort_values'],\n",
       "  ['9', 'Pandas', 'iloc'],\n",
       "  ['10', 'Pandas', 'GROUPBY, AGG dict'],\n",
       "  ['11', 'Pandas', 'Windowing - rank, row_number'],\n",
       "  ['12', 'Pandas', 'Functions - MAP and APPLY, LAMBDA']]}"
      ]
     },
     "execution_count": 10,
     "metadata": {},
     "output_type": "execute_result"
    }
   ],
   "execution_count": 10
  },
  {
   "metadata": {},
   "cell_type": "code",
   "outputs": [],
   "execution_count": null,
   "source": "",
   "id": "2da7fce96599161d"
  }
 ],
 "metadata": {
  "kernelspec": {
   "display_name": "Python 3",
   "language": "python",
   "name": "python3"
  },
  "language_info": {
   "codemirror_mode": {
    "name": "ipython",
    "version": 2
   },
   "file_extension": ".py",
   "mimetype": "text/x-python",
   "name": "python",
   "nbconvert_exporter": "python",
   "pygments_lexer": "ipython2",
   "version": "2.7.6"
  }
 },
 "nbformat": 4,
 "nbformat_minor": 5
}
