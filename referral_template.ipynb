{
  "nbformat": 4,
  "nbformat_minor": 0,
  "metadata": {
    "colab": {
      "provenance": []
    },
    "kernelspec": {
      "name": "python3",
      "display_name": "Python 3"
    },
    "language_info": {
      "name": "python"
    }
  },
  "cells": [
    {
      "cell_type": "code",
      "execution_count": 2,
      "metadata": {
        "id": "aCGe65aSviix"
      },
      "outputs": [],
      "source": [
        "from jinja2 import Template\n",
        "\n",
        "pre_template = \"\"\"\n",
        "Hi {{sponsor}},\n",
        "\n",
        "I hope you are doing well. Recently, I came across an opening at {{company}} for a {{role}} position. I would be very thankful if you could provide me with a referral.\n",
        "\n",
        "I am Bhanu, a graduate from IIT Roorkee and I have 5 years of overall experience with a majority in Data Engineering, working with variety of data and data architectures at PetaByte Scale Companies like Phonepe.\n",
        "\n",
        "I am skilled in SQL, Pyspark, Hive, Qliksense, Airflow, Data warehousing, Azure and GCP Platforms. I believe my skills make me a good fit for the role.\n",
        "\n",
        "I am attaching my resume for your reference. Please feel free to revert if you need any further info. Awaiting your reply.\n",
        "{% if job_link %}\n",
        "Job Link - {{ job_link }}\n",
        "{% endif %}\n",
        "Thanks in Advance.\n",
        "Bhanu Pradeep Magham\n",
        "email : bhanupradeepmagham@gmail.com\n",
        "Phone : 8500519003\n",
        "\"\"\"\n",
        "template = Template(pre_template)\n"
      ]
    },
    {
      "cell_type": "code",
      "source": [
        "params = {   \"sponsor\"  :\"Bhanu \"\n",
        "             ,\"company\"  : \"Funny\"\n",
        "             ,\"role\"     : \"Data Engineer 2\"\n",
        "             ,\"job_link\" : \"Kuch Bhi\"\n",
        "          }\n",
        "final = template.render(**params)\n",
        "print(final)"
      ],
      "metadata": {
        "colab": {
          "base_uri": "https://localhost:8080/"
        },
        "id": "Nv_IdzPe35-J",
        "outputId": "6c05e9a6-9006-4c7a-e0aa-cb40c246cb35"
      },
      "execution_count": 3,
      "outputs": [
        {
          "output_type": "stream",
          "name": "stdout",
          "text": [
            "\n",
            "Hi Bhanu ,\n",
            "\n",
            "I hope you are doing well. Recently, I came across an opening at Funny for a Data Engineer 2 position. I would be very thankful if you could provide me with a referral.\n",
            "\n",
            "I am Bhanu, a graduate from IIT Roorkee and I have 5 years of overall experience with a majority in Data Engineering, working with variety of data and data architectures at PetaByte Scale Companies like Phonepe.\n",
            "\n",
            "I am skilled in SQL, Pyspark, Hive, Qliksense, Airflow, Data warehousing, Azure and GCP Platforms. I believe my skills make me a good fit for the role.\n",
            "\n",
            "I am attaching my resume for your reference. Please feel free to revert if you need any further info. Awaiting your reply.\n",
            "\n",
            "Job Link - Kuch Bhi\n",
            "\n",
            "Thanks in Advance.\n",
            "Bhanu Pradeep Magham\n",
            "email : bhanupradeepmagham@gmail.com\n",
            "Phone : 8500519003\n"
          ]
        }
      ]
    }
  ]
}